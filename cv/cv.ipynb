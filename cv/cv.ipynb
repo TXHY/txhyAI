{
 "cells": [
  {
   "cell_type": "markdown",
   "metadata": {},
   "source": [
    "## cv(1)-mnist_mlp\n",
    "- author: xiaozhi\n",
    "- date: 2020-10-02"
   ]
  },
  {
   "cell_type": "code",
   "execution_count": 1,
   "metadata": {},
   "outputs": [
    {
     "name": "stderr",
     "output_type": "stream",
     "text": [
      "Using TensorFlow backend.\n"
     ]
    },
    {
     "name": "stdout",
     "output_type": "stream",
     "text": [
      "导入成功.....\n"
     ]
    }
   ],
   "source": [
    "import keras\n",
    "import numpy as np\n",
    "import matplotlib.pyplot as plt\n",
    "from keras.models import Sequential\n",
    "from keras.datasets import mnist\n",
    "from keras.layers import Dense, Dropout\n",
    "from keras.optimizers import RMSprop\n",
    "# %matplotlib.inline()\n",
    "print(\"导入成功.....\")"
   ]
  },
  {
   "cell_type": "markdown",
   "metadata": {},
   "source": [
    "### 1.图像数据处理"
   ]
  },
  {
   "cell_type": "code",
   "execution_count": 2,
   "metadata": {},
   "outputs": [
    {
     "name": "stdout",
     "output_type": "stream",
     "text": [
      ">>> 查看数据文件： ['x_test', 'x_train', 'y_train', 'y_test']\n",
      "(60000, 28, 28) (10000, 28, 28)\n",
      "class numbers:  {0, 1, 2, 3, 4, 5, 6, 7, 8, 9}\n"
     ]
    },
    {
     "data": {
      "text/plain": [
       "array([[[0, 0, 0, ..., 0, 0, 0],\n",
       "        [0, 0, 0, ..., 0, 0, 0],\n",
       "        [0, 0, 0, ..., 0, 0, 0],\n",
       "        ...,\n",
       "        [0, 0, 0, ..., 0, 0, 0],\n",
       "        [0, 0, 0, ..., 0, 0, 0],\n",
       "        [0, 0, 0, ..., 0, 0, 0]],\n",
       "\n",
       "       [[0, 0, 0, ..., 0, 0, 0],\n",
       "        [0, 0, 0, ..., 0, 0, 0],\n",
       "        [0, 0, 0, ..., 0, 0, 0],\n",
       "        ...,\n",
       "        [0, 0, 0, ..., 0, 0, 0],\n",
       "        [0, 0, 0, ..., 0, 0, 0],\n",
       "        [0, 0, 0, ..., 0, 0, 0]]], dtype=uint8)"
      ]
     },
     "execution_count": 2,
     "metadata": {},
     "output_type": "execute_result"
    }
   ],
   "source": [
    "# 加载数据\n",
    "data = np.load(\"mnist.npz\")\n",
    "print(\">>> 查看数据文件：\", data.files)\n",
    "x_train = data['x_train']\n",
    "y_train = data['y_train']\n",
    "x_test = data['x_test']\n",
    "y_test = data['y_test']\n",
    "print(x_train.shape, x_test.shape)\n",
    "print(\"class numbers: \", set(y_train))\n",
    "x_train[:2]\n"
   ]
  },
  {
   "cell_type": "code",
   "execution_count": 3,
   "metadata": {},
   "outputs": [
    {
     "name": "stdout",
     "output_type": "stream",
     "text": [
      "(60000, 784) (10000, 784)\n"
     ]
    },
    {
     "data": {
      "text/plain": [
       "array([[0., 0., 0., ..., 0., 0., 0.],\n",
       "       [0., 0., 0., ..., 0., 0., 0.]], dtype=float32)"
      ]
     },
     "execution_count": 3,
     "metadata": {},
     "output_type": "execute_result"
    }
   ],
   "source": [
    "# 特征数据处理\n",
    "# (1)由于使用mlp模型，需将三维数据转换成二维\n",
    "max_features = 28*28\n",
    "x_train = x_train.reshape(60000, max_features)\n",
    "x_test = x_test.reshape(10000, max_features)\n",
    "# (2)uint8 ——> float32\n",
    "x_train = x_train.astype(\"float32\")\n",
    "x_test = x_test.astype(\"float32\")\n",
    "# (3)标准化数据\n",
    "x_train = x_train/255\n",
    "x_test = x_test/255\n",
    "print(x_train.shape, x_test.shape)\n",
    "x_train[:2]\n"
   ]
  },
  {
   "cell_type": "markdown",
   "metadata": {},
   "source": [
    "### 2.参数配置"
   ]
  },
  {
   "cell_type": "code",
   "execution_count": 4,
   "metadata": {},
   "outputs": [],
   "source": [
    "batch_size = 128\n",
    "classes_num = 10\n",
    "epochs = 10\n"
   ]
  },
  {
   "cell_type": "markdown",
   "metadata": {},
   "source": [
    "### 3.标签数据处理"
   ]
  },
  {
   "cell_type": "code",
   "execution_count": 5,
   "metadata": {},
   "outputs": [
    {
     "name": "stdout",
     "output_type": "stream",
     "text": [
      "(60000, 10)\n"
     ]
    }
   ],
   "source": [
    "y_train = keras.utils.to_categorical(y_train, classes_num)\n",
    "y_test = keras.utils.to_categorical(y_test, classes_num)\n",
    "print(y_train.shape)"
   ]
  },
  {
   "cell_type": "markdown",
   "metadata": {},
   "source": [
    "### 4.构建MLP网络"
   ]
  },
  {
   "cell_type": "code",
   "execution_count": 6,
   "metadata": {},
   "outputs": [
    {
     "name": "stdout",
     "output_type": "stream",
     "text": [
      "Model: \"sequential_1\"\n",
      "_________________________________________________________________\n",
      "Layer (type)                 Output Shape              Param #   \n",
      "=================================================================\n",
      "dense_1 (Dense)              (None, 512)               401920    \n",
      "_________________________________________________________________\n",
      "dropout_1 (Dropout)          (None, 512)               0         \n",
      "_________________________________________________________________\n",
      "dense_2 (Dense)              (None, 512)               262656    \n",
      "_________________________________________________________________\n",
      "dropout_2 (Dropout)          (None, 512)               0         \n",
      "_________________________________________________________________\n",
      "dense_3 (Dense)              (None, 10)                5130      \n",
      "=================================================================\n",
      "Total params: 669,706\n",
      "Trainable params: 669,706\n",
      "Non-trainable params: 0\n",
      "_________________________________________________________________\n"
     ]
    }
   ],
   "source": [
    "model = Sequential()\n",
    "model.add(Dense(units=512, \n",
    "                activation=\"relu\", \n",
    "                input_shape=(max_features,))\n",
    "         )\n",
    "model.add(Dropout(0.2))\n",
    "model.add(Dense(units=512, activation=\"relu\"))\n",
    "model.add(Dropout(0.2))\n",
    "# model.add(Dense(units=32, activation=\"relu\"))\n",
    "model.add(Dense(units=classes_num, activation=\"sigmoid\"))\n",
    "model.summary()"
   ]
  },
  {
   "cell_type": "markdown",
   "metadata": {},
   "source": [
    "### 5.编译网络模型"
   ]
  },
  {
   "cell_type": "code",
   "execution_count": 7,
   "metadata": {},
   "outputs": [],
   "source": [
    "model.compile(loss=\"categorical_crossentropy\",\n",
    "              optimizer=RMSprop(lr=0.001),   # 学习率设置为(默认) 0.001\n",
    "              metrics=['accuracy']\n",
    "             )\n"
   ]
  },
  {
   "cell_type": "markdown",
   "metadata": {},
   "source": [
    "### 6.训练网络"
   ]
  },
  {
   "cell_type": "code",
   "execution_count": 8,
   "metadata": {},
   "outputs": [
    {
     "name": "stdout",
     "output_type": "stream",
     "text": [
      "Train on 60000 samples, validate on 10000 samples\n",
      "Epoch 1/10\n",
      "60000/60000 [==============================] - 43s 713us/step - loss: 0.2748 - accuracy: 0.9164 - val_loss: 0.1128 - val_accuracy: 0.9648\n",
      "Epoch 2/10\n",
      "60000/60000 [==============================] - 45s 746us/step - loss: 0.1100 - accuracy: 0.9662 - val_loss: 0.0801 - val_accuracy: 0.9772\n",
      "Epoch 3/10\n",
      "60000/60000 [==============================] - 43s 719us/step - loss: 0.0821 - accuracy: 0.9752 - val_loss: 0.0840 - val_accuracy: 0.9762\n",
      "Epoch 4/10\n",
      "60000/60000 [==============================] - 43s 719us/step - loss: 0.0644 - accuracy: 0.9808 - val_loss: 0.0873 - val_accuracy: 0.9759\n",
      "Epoch 5/10\n",
      "60000/60000 [==============================] - 44s 739us/step - loss: 0.0535 - accuracy: 0.9843 - val_loss: 0.0785 - val_accuracy: 0.9794\n",
      "Epoch 6/10\n",
      "60000/60000 [==============================] - 45s 749us/step - loss: 0.0484 - accuracy: 0.9859 - val_loss: 0.0820 - val_accuracy: 0.9803\n",
      "Epoch 7/10\n",
      "60000/60000 [==============================] - 47s 780us/step - loss: nan - accuracy: 0.3514 - val_loss: nan - val_accuracy: 0.0980\n",
      "Epoch 8/10\n",
      "60000/60000 [==============================] - 46s 762us/step - loss: nan - accuracy: 0.0987 - val_loss: nan - val_accuracy: 0.0980- loss: nan - a - ETA: 2s - los\n",
      "Epoch 9/10\n",
      "60000/60000 [==============================] - 45s 745us/step - loss: nan - accuracy: 0.0987 - val_loss: nan - val_accuracy: 0.0980\n",
      "Epoch 10/10\n",
      "60000/60000 [==============================] - 45s 757us/step - loss: nan - accuracy: 0.0987 - val_loss: nan - val_accuracy: 0.0980\n"
     ]
    }
   ],
   "source": [
    "history = model.fit(x_train,\n",
    "          y_train, \n",
    "          batch_size=batch_size,\n",
    "          epochs=epochs,\n",
    "          # validation_split=None,  # 0.1\n",
    "          validation_data=(x_test, y_test)\n",
    "         )\n"
   ]
  },
  {
   "cell_type": "markdown",
   "metadata": {},
   "source": [
    "### 7.历史可视化"
   ]
  },
  {
   "cell_type": "code",
   "execution_count": 9,
   "metadata": {},
   "outputs": [
    {
     "data": {
      "text/plain": [
       "<matplotlib.legend.Legend at 0x1ca44511a90>"
      ]
     },
     "execution_count": 9,
     "metadata": {},
     "output_type": "execute_result"
    },
    {
     "data": {
      "image/png": "[encoded data removed]",
      "text/plain": [
       "<Figure size 432x288 with 1 Axes>"
      ]
     },
     "metadata": {
      "needs_background": "light"
     },
     "output_type": "display_data"
    }
   ],
   "source": [
    "x = range(1, len(history.epoch)+1)\n",
    "plt.plot(x, history.history['loss'], label=\"loss\", marker=\".\")\n",
    "plt.plot(x, history.history['val_loss'], label=\"val_loss\", marker=\".\")\n",
    "plt.legend()"
   ]
  },
  {
   "cell_type": "code",
   "execution_count": 10,
   "metadata": {},
   "outputs": [
    {
     "data": {
      "text/plain": [
       "<matplotlib.legend.Legend at 0x1ca445c6780>"
      ]
     },
     "execution_count": 10,
     "metadata": {},
     "output_type": "execute_result"
    },
    {
     "data": {
      "image/png": "[encoded data removed]",
      "text/plain": [
       "<Figure size 432x288 with 1 Axes>"
      ]
     },
     "metadata": {
      "needs_background": "light"
     },
     "output_type": "display_data"
    }
   ],
   "source": [
    "plt.plot(x, history.history['accuracy'], label=\"accuracy\", marker=\".\")\n",
    "plt.plot(x, history.history['val_accuracy'], label=\"val_accuracy\", marker=\".\")\n",
    "plt.legend()"
   ]
  },
  {
   "cell_type": "markdown",
   "metadata": {},
   "source": [
    "### 8.性能评估"
   ]
  },
  {
   "cell_type": "code",
   "execution_count": 11,
   "metadata": {},
   "outputs": [
    {
     "name": "stdout",
     "output_type": "stream",
     "text": [
      "test loss: nan\n",
      "test accuracy: 0.09799999743700027\n"
     ]
    }
   ],
   "source": [
    "score = model.evaluate(x_test, y_test, verbose=0)\n",
    "print(\"test loss: {}\".format(score[0]))\n",
    "print(\"test accuracy: {}\".format(score[1]))"
   ]
  },
  {
   "cell_type": "markdown",
   "metadata": {},
   "source": [
    "### 9.问题解决"
   ]
  },
  {
   "cell_type": "code",
   "execution_count": 12,
   "metadata": {},
   "outputs": [
    {
     "name": "stdout",
     "output_type": "stream",
     "text": [
      "Train on 60000 samples, validate on 10000 samples\n",
      "Epoch 1/10\n",
      "60000/60000 [==============================] - 44s 735us/step - loss: 0.6814 - accuracy: 0.8216 - val_loss: 0.2831 - val_accuracy: 0.9229\n",
      "Epoch 2/10\n",
      "60000/60000 [==============================] - 42s 693us/step - loss: 0.2982 - accuracy: 0.9130 - val_loss: 0.2001 - val_accuracy: 0.9418\n",
      "Epoch 3/10\n",
      "60000/60000 [==============================] - 41s 683us/step - loss: 0.2245 - accuracy: 0.9349 - val_loss: 0.1607 - val_accuracy: 0.9510\n",
      "Epoch 4/10\n",
      "60000/60000 [==============================] - 43s 720us/step - loss: 0.1803 - accuracy: 0.9470 - val_loss: 0.1395 - val_accuracy: 0.9571\n",
      "Epoch 5/10\n",
      "60000/60000 [==============================] - 41s 680us/step - loss: 0.1532 - accuracy: 0.9556 - val_loss: 0.1186 - val_accuracy: 0.9641\n",
      "Epoch 6/10\n",
      "60000/60000 [==============================] - 41s 682us/step - loss: 0.1306 - accuracy: 0.9621 - val_loss: 0.1043 - val_accuracy: 0.9671\n",
      "Epoch 7/10\n",
      "60000/60000 [==============================] - 42s 702us/step - loss: 0.1150 - accuracy: 0.9658 - val_loss: 0.0973 - val_accuracy: 0.9702\n",
      "Epoch 8/10\n",
      "60000/60000 [==============================] - 41s 683us/step - loss: 0.1029 - accuracy: 0.9691 - val_loss: 0.0888 - val_accuracy: 0.9720\n",
      "Epoch 9/10\n",
      "60000/60000 [==============================] - 44s 733us/step - loss: 0.0925 - accuracy: 0.9725 - val_loss: 0.0849 - val_accuracy: 0.9732\n",
      "Epoch 10/10\n",
      "60000/60000 [==============================] - 41s 683us/step - loss: 0.0835 - accuracy: 0.9749 - val_loss: 0.0775 - val_accuracy: 0.9762\n",
      "test loss: 0.07747726745610126\n",
      "test accuracy: 0.9761999845504761\n"
     ]
    },
    {
     "data": {
      "image/png": "[encoded data removed]",
      "text/plain": [
       "<Figure size 432x288 with 1 Axes>"
      ]
     },
     "metadata": {
      "needs_background": "light"
     },
     "output_type": "display_data"
    }
   ],
   "source": [
    "del model\n",
    "model = Sequential()\n",
    "model.add(Dense(units=512, \n",
    "                activation=\"relu\", \n",
    "                input_shape=(max_features,))\n",
    "         )\n",
    "model.add(Dropout(0.2))\n",
    "model.add(Dense(units=512, activation=\"relu\"))\n",
    "model.add(Dropout(0.2))\n",
    "# model.add(Dense(units=32, activation=\"relu\"))\n",
    "model.add(Dense(units=classes_num, activation=\"sigmoid\"))\n",
    "# model.summary()\n",
    "\n",
    "# ---------------------------------------------------------\n",
    "# 面对loss出现nan，准确率急速下降的问题进行优化\n",
    "# 考虑原因是学习率过大，因此学习率由0.001降到0.0001\n",
    "# ---------------------------------------------------------\n",
    "model.compile(loss=\"categorical_crossentropy\",\n",
    "              optimizer=RMSprop(lr=0.0001),   # 学习率设置为 0.0001\n",
    "              metrics=['accuracy']\n",
    "             )\n",
    "\n",
    "history = model.fit(x_train,\n",
    "          y_train, \n",
    "          batch_size=batch_size,\n",
    "          epochs=epochs,\n",
    "          # validation_split=None,  # 0.1\n",
    "          validation_data=(x_test, y_test)\n",
    "         )\n",
    "\n",
    "x = range(1, len(history.epoch)+1)\n",
    "plt.plot(x, history.history['loss'], label=\"loss\", marker=\".\")\n",
    "plt.plot(x, history.history['val_loss'], label=\"val_loss\", marker=\".\")\n",
    "plt.legend()\n",
    "\n",
    "plt.plot(x, history.history['accuracy'], label=\"accuracy\", marker=\".\")\n",
    "plt.plot(x, history.history['val_accuracy'], label=\"val_accuracy\", marker=\".\")\n",
    "plt.legend()\n",
    "\n",
    "score = model.evaluate(x_test, y_test, verbose=0)\n",
    "print(\"test loss: {}\".format(score[0]))\n",
    "print(\"test accuracy: {}\".format(score[1]))\n"
   ]
  },
  {
   "cell_type": "markdown",
   "metadata": {},
   "source": [
    "### 10.总结\n",
    "- 针对深度学习模型，参数设置和调整至关重要，参数设置不当或者相应的函数选取不当，都有可能出现严重的性能问题；\n",
    "- 相应损失函数、优化器、激活函数的设置也是根据具体问题具体分析，一般而言，损失函数通常选取交叉熵，优化器有adam、rmsprop，激活函数通常选取sigmoid,softmax,relu；\n",
    "- 在本案例中，训练过程中，损失函数出现nan情况，并且训练准确率也出现急速下降的情况，一般造成这种原因因素较多，比如：\n",
    "    1. **学习率过大容易导致模型震荡，在本案例将优化器中的学习率由0.001调整为0.0001，模型由差变好；**\n",
    "    2. batch太大；\n",
    "    3. 数据本身很脏；\n",
    "    4. .....\n",
    "- 深度学习弱化了手动处理特征的过程，所以深度学习更加侧重于神经网络的结构参数、函数选择、参数以及超参数配置就显得尤为重要；\n",
    "- 机器学习的模型函数通常就一种，不像神经网络可以在不同神经层添加不同的激活函数，这也就使得机器学习在保证模型没问题的情况下，更加侧重于对数据进行特征工程，从而争取再提高准确率。"
   ]
  },
  {
   "cell_type": "code",
   "execution_count": null,
   "metadata": {},
   "outputs": [],
   "source": []
  },
  {
   "cell_type": "code",
   "execution_count": null,
   "metadata": {},
   "outputs": [],
   "source": []
  }
 ],
 "metadata": {
  "kernelspec": {
   "display_name": "Python 3",
   "language": "python",
   "name": "python3"
  },
  "language_info": {
   "codemirror_mode": {
    "name": "ipython",
    "version": 3
   },
   "file_extension": ".py",
   "mimetype": "text/x-python",
   "name": "python",
   "nbconvert_exporter": "python",
   "pygments_lexer": "ipython3",
   "version": "3.6.9"
  },
  "toc": {
   "base_numbering": 1,
   "nav_menu": {},
   "number_sections": false,
   "sideBar": true,
   "skip_h1_title": false,
   "title_cell": "Table of Contents",
   "title_sidebar": "Contents",
   "toc_cell": false,
   "toc_position": {},
   "toc_section_display": true,
   "toc_window_display": true
  }
 },
 "nbformat": 4,
 "nbformat_minor": 2
}
